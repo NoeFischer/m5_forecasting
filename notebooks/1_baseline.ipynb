{
 "cells": [
  {
   "cell_type": "markdown",
   "metadata": {},
   "source": [
    "### Imports"
   ]
  },
  {
   "cell_type": "code",
   "execution_count": 130,
   "metadata": {},
   "outputs": [],
   "source": [
    "import pandas as pd\n",
    "import numpy as np\n",
    "from joblib import dump\n",
    "from sklearn.preprocessing import OneHotEncoder\n",
    "from sklearn.ensemble import RandomForestRegressor\n",
    "from sklearn.metrics import mean_absolute_error\n",
    "from utils import train_val_set"
   ]
  },
  {
   "cell_type": "code",
   "execution_count": 2,
   "metadata": {},
   "outputs": [],
   "source": [
    "# Source ext. scripts when saved\n",
    "%load_ext autoreload\n",
    "%autoreload 2"
   ]
  },
  {
   "cell_type": "markdown",
   "metadata": {},
   "source": [
    "### Load data"
   ]
  },
  {
   "cell_type": "code",
   "execution_count": 102,
   "metadata": {},
   "outputs": [
    {
     "data": {
      "text/html": [
       "<div>\n",
       "<style scoped>\n",
       "    .dataframe tbody tr th:only-of-type {\n",
       "        vertical-align: middle;\n",
       "    }\n",
       "\n",
       "    .dataframe tbody tr th {\n",
       "        vertical-align: top;\n",
       "    }\n",
       "\n",
       "    .dataframe thead th {\n",
       "        text-align: right;\n",
       "    }\n",
       "</style>\n",
       "<table border=\"1\" class=\"dataframe\">\n",
       "  <thead>\n",
       "    <tr style=\"text-align: right;\">\n",
       "      <th></th>\n",
       "      <th>id</th>\n",
       "      <th>item_id</th>\n",
       "      <th>dept_id</th>\n",
       "      <th>cat_id</th>\n",
       "      <th>store_id</th>\n",
       "      <th>state_id</th>\n",
       "      <th>day</th>\n",
       "      <th>sales</th>\n",
       "    </tr>\n",
       "  </thead>\n",
       "  <tbody>\n",
       "    <tr>\n",
       "      <th>19</th>\n",
       "      <td>HOBBIES_1_020_CA_1_validation</td>\n",
       "      <td>20</td>\n",
       "      <td>1</td>\n",
       "      <td>HOBBIES</td>\n",
       "      <td>1</td>\n",
       "      <td>CA</td>\n",
       "      <td>1</td>\n",
       "      <td>0</td>\n",
       "    </tr>\n",
       "    <tr>\n",
       "      <th>24</th>\n",
       "      <td>HOBBIES_1_025_CA_1_validation</td>\n",
       "      <td>25</td>\n",
       "      <td>1</td>\n",
       "      <td>HOBBIES</td>\n",
       "      <td>1</td>\n",
       "      <td>CA</td>\n",
       "      <td>1</td>\n",
       "      <td>0</td>\n",
       "    </tr>\n",
       "    <tr>\n",
       "      <th>36</th>\n",
       "      <td>HOBBIES_1_037_CA_1_validation</td>\n",
       "      <td>37</td>\n",
       "      <td>1</td>\n",
       "      <td>HOBBIES</td>\n",
       "      <td>1</td>\n",
       "      <td>CA</td>\n",
       "      <td>1</td>\n",
       "      <td>0</td>\n",
       "    </tr>\n",
       "    <tr>\n",
       "      <th>61</th>\n",
       "      <td>HOBBIES_1_063_CA_1_validation</td>\n",
       "      <td>63</td>\n",
       "      <td>1</td>\n",
       "      <td>HOBBIES</td>\n",
       "      <td>1</td>\n",
       "      <td>CA</td>\n",
       "      <td>1</td>\n",
       "      <td>0</td>\n",
       "    </tr>\n",
       "    <tr>\n",
       "      <th>77</th>\n",
       "      <td>HOBBIES_1_080_CA_1_validation</td>\n",
       "      <td>80</td>\n",
       "      <td>1</td>\n",
       "      <td>HOBBIES</td>\n",
       "      <td>1</td>\n",
       "      <td>CA</td>\n",
       "      <td>1</td>\n",
       "      <td>0</td>\n",
       "    </tr>\n",
       "  </tbody>\n",
       "</table>\n",
       "</div>"
      ],
      "text/plain": [
       "                               id  item_id  dept_id   cat_id  store_id  \\\n",
       "19  HOBBIES_1_020_CA_1_validation       20        1  HOBBIES         1   \n",
       "24  HOBBIES_1_025_CA_1_validation       25        1  HOBBIES         1   \n",
       "36  HOBBIES_1_037_CA_1_validation       37        1  HOBBIES         1   \n",
       "61  HOBBIES_1_063_CA_1_validation       63        1  HOBBIES         1   \n",
       "77  HOBBIES_1_080_CA_1_validation       80        1  HOBBIES         1   \n",
       "\n",
       "   state_id  day  sales  \n",
       "19       CA    1      0  \n",
       "24       CA    1      0  \n",
       "36       CA    1      0  \n",
       "61       CA    1      0  \n",
       "77       CA    1      0  "
      ]
     },
     "execution_count": 102,
     "metadata": {},
     "output_type": "execute_result"
    }
   ],
   "source": [
    "base_path = '/Users/Neezy/Desktop/ds_projects/m5_forecasting/data/'\n",
    "sales = pd.read_pickle(base_path + 'sales_sample.pkl')\n",
    "sales.head()"
   ]
  },
  {
   "cell_type": "markdown",
   "metadata": {},
   "source": [
    "### Baseline - Random Forest"
   ]
  },
  {
   "cell_type": "markdown",
   "metadata": {},
   "source": [
    "#### Feature Engineering"
   ]
  },
  {
   "cell_type": "code",
   "execution_count": 4,
   "metadata": {},
   "outputs": [],
   "source": [
    "sales_rf = sales.copy()"
   ]
  },
  {
   "cell_type": "code",
   "execution_count": 5,
   "metadata": {
    "scrolled": true
   },
   "outputs": [
    {
     "data": {
      "text/html": [
       "<div>\n",
       "<style scoped>\n",
       "    .dataframe tbody tr th:only-of-type {\n",
       "        vertical-align: middle;\n",
       "    }\n",
       "\n",
       "    .dataframe tbody tr th {\n",
       "        vertical-align: top;\n",
       "    }\n",
       "\n",
       "    .dataframe thead th {\n",
       "        text-align: right;\n",
       "    }\n",
       "</style>\n",
       "<table border=\"1\" class=\"dataframe\">\n",
       "  <thead>\n",
       "    <tr style=\"text-align: right;\">\n",
       "      <th></th>\n",
       "      <th>item_id</th>\n",
       "      <th>dept_id</th>\n",
       "      <th>cat_id</th>\n",
       "      <th>store_id</th>\n",
       "      <th>state_id</th>\n",
       "      <th>day</th>\n",
       "      <th>sales</th>\n",
       "    </tr>\n",
       "  </thead>\n",
       "  <tbody>\n",
       "    <tr>\n",
       "      <th>19</th>\n",
       "      <td>20</td>\n",
       "      <td>1</td>\n",
       "      <td>HOBBIES</td>\n",
       "      <td>1</td>\n",
       "      <td>CA</td>\n",
       "      <td>1</td>\n",
       "      <td>0</td>\n",
       "    </tr>\n",
       "    <tr>\n",
       "      <th>24</th>\n",
       "      <td>25</td>\n",
       "      <td>1</td>\n",
       "      <td>HOBBIES</td>\n",
       "      <td>1</td>\n",
       "      <td>CA</td>\n",
       "      <td>1</td>\n",
       "      <td>0</td>\n",
       "    </tr>\n",
       "    <tr>\n",
       "      <th>36</th>\n",
       "      <td>37</td>\n",
       "      <td>1</td>\n",
       "      <td>HOBBIES</td>\n",
       "      <td>1</td>\n",
       "      <td>CA</td>\n",
       "      <td>1</td>\n",
       "      <td>0</td>\n",
       "    </tr>\n",
       "    <tr>\n",
       "      <th>61</th>\n",
       "      <td>63</td>\n",
       "      <td>1</td>\n",
       "      <td>HOBBIES</td>\n",
       "      <td>1</td>\n",
       "      <td>CA</td>\n",
       "      <td>1</td>\n",
       "      <td>0</td>\n",
       "    </tr>\n",
       "    <tr>\n",
       "      <th>77</th>\n",
       "      <td>80</td>\n",
       "      <td>1</td>\n",
       "      <td>HOBBIES</td>\n",
       "      <td>1</td>\n",
       "      <td>CA</td>\n",
       "      <td>1</td>\n",
       "      <td>0</td>\n",
       "    </tr>\n",
       "  </tbody>\n",
       "</table>\n",
       "</div>"
      ],
      "text/plain": [
       "    item_id  dept_id   cat_id  store_id state_id  day  sales\n",
       "19       20        1  HOBBIES         1       CA    1      0\n",
       "24       25        1  HOBBIES         1       CA    1      0\n",
       "36       37        1  HOBBIES         1       CA    1      0\n",
       "61       63        1  HOBBIES         1       CA    1      0\n",
       "77       80        1  HOBBIES         1       CA    1      0"
      ]
     },
     "execution_count": 5,
     "metadata": {},
     "output_type": "execute_result"
    }
   ],
   "source": [
    "# Drop unused features\n",
    "sales_rf_ft = sales_rf.drop('id', axis=1)\n",
    "sales_rf_ft.head()"
   ]
  },
  {
   "cell_type": "code",
   "execution_count": 9,
   "metadata": {
    "scrolled": true
   },
   "outputs": [
    {
     "data": {
      "text/html": [
       "<div>\n",
       "<style scoped>\n",
       "    .dataframe tbody tr th:only-of-type {\n",
       "        vertical-align: middle;\n",
       "    }\n",
       "\n",
       "    .dataframe tbody tr th {\n",
       "        vertical-align: top;\n",
       "    }\n",
       "\n",
       "    .dataframe thead th {\n",
       "        text-align: right;\n",
       "    }\n",
       "</style>\n",
       "<table border=\"1\" class=\"dataframe\">\n",
       "  <thead>\n",
       "    <tr style=\"text-align: right;\">\n",
       "      <th></th>\n",
       "      <th>dept_id_2</th>\n",
       "      <th>dept_id_3</th>\n",
       "      <th>cat_id_HOBBIES</th>\n",
       "      <th>cat_id_HOUSEHOLD</th>\n",
       "      <th>store_id_2</th>\n",
       "      <th>store_id_3</th>\n",
       "      <th>store_id_4</th>\n",
       "      <th>state_id_TX</th>\n",
       "      <th>state_id_WI</th>\n",
       "      <th>day</th>\n",
       "      <th>sales</th>\n",
       "    </tr>\n",
       "  </thead>\n",
       "  <tbody>\n",
       "    <tr>\n",
       "      <th>19</th>\n",
       "      <td>0.0</td>\n",
       "      <td>0.0</td>\n",
       "      <td>1.0</td>\n",
       "      <td>0.0</td>\n",
       "      <td>0.0</td>\n",
       "      <td>0.0</td>\n",
       "      <td>0.0</td>\n",
       "      <td>0.0</td>\n",
       "      <td>0.0</td>\n",
       "      <td>1</td>\n",
       "      <td>0</td>\n",
       "    </tr>\n",
       "    <tr>\n",
       "      <th>24</th>\n",
       "      <td>0.0</td>\n",
       "      <td>0.0</td>\n",
       "      <td>1.0</td>\n",
       "      <td>0.0</td>\n",
       "      <td>0.0</td>\n",
       "      <td>0.0</td>\n",
       "      <td>0.0</td>\n",
       "      <td>0.0</td>\n",
       "      <td>0.0</td>\n",
       "      <td>1</td>\n",
       "      <td>0</td>\n",
       "    </tr>\n",
       "    <tr>\n",
       "      <th>36</th>\n",
       "      <td>0.0</td>\n",
       "      <td>0.0</td>\n",
       "      <td>1.0</td>\n",
       "      <td>0.0</td>\n",
       "      <td>0.0</td>\n",
       "      <td>0.0</td>\n",
       "      <td>0.0</td>\n",
       "      <td>0.0</td>\n",
       "      <td>0.0</td>\n",
       "      <td>1</td>\n",
       "      <td>0</td>\n",
       "    </tr>\n",
       "    <tr>\n",
       "      <th>61</th>\n",
       "      <td>0.0</td>\n",
       "      <td>0.0</td>\n",
       "      <td>1.0</td>\n",
       "      <td>0.0</td>\n",
       "      <td>0.0</td>\n",
       "      <td>0.0</td>\n",
       "      <td>0.0</td>\n",
       "      <td>0.0</td>\n",
       "      <td>0.0</td>\n",
       "      <td>1</td>\n",
       "      <td>0</td>\n",
       "    </tr>\n",
       "    <tr>\n",
       "      <th>77</th>\n",
       "      <td>0.0</td>\n",
       "      <td>0.0</td>\n",
       "      <td>1.0</td>\n",
       "      <td>0.0</td>\n",
       "      <td>0.0</td>\n",
       "      <td>0.0</td>\n",
       "      <td>0.0</td>\n",
       "      <td>0.0</td>\n",
       "      <td>0.0</td>\n",
       "      <td>1</td>\n",
       "      <td>0</td>\n",
       "    </tr>\n",
       "  </tbody>\n",
       "</table>\n",
       "</div>"
      ],
      "text/plain": [
       "    dept_id_2  dept_id_3  cat_id_HOBBIES  cat_id_HOUSEHOLD  store_id_2  \\\n",
       "19        0.0        0.0             1.0               0.0         0.0   \n",
       "24        0.0        0.0             1.0               0.0         0.0   \n",
       "36        0.0        0.0             1.0               0.0         0.0   \n",
       "61        0.0        0.0             1.0               0.0         0.0   \n",
       "77        0.0        0.0             1.0               0.0         0.0   \n",
       "\n",
       "    store_id_3  store_id_4  state_id_TX  state_id_WI  day  sales  \n",
       "19         0.0         0.0          0.0          0.0    1      0  \n",
       "24         0.0         0.0          0.0          0.0    1      0  \n",
       "36         0.0         0.0          0.0          0.0    1      0  \n",
       "61         0.0         0.0          0.0          0.0    1      0  \n",
       "77         0.0         0.0          0.0          0.0    1      0  "
      ]
     },
     "execution_count": 9,
     "metadata": {},
     "output_type": "execute_result"
    }
   ],
   "source": [
    "# Split categorical variables\n",
    "cat_vars = sales_rf_ft[['dept_id', 'cat_id', 'store_id', 'state_id']]\n",
    "other_vars = sales_rf_ft[['day', 'sales']]\n",
    "\n",
    "# One hot encoding\n",
    "one_hot = OneHotEncoder()\n",
    "cat_vars_oh = one_hot.fit_transform(cat_vars).toarray()\n",
    "cat_vars_oh = pd.DataFrame(\n",
    "    cat_vars_oh, columns=one_hot.get_feature_names(cat_vars.columns))\n",
    "cat_vars_oh.index = cat_vars.index\n",
    "\n",
    "# Append Y again\n",
    "sales_rf_ft_oh = pd.concat([cat_vars_oh, other_vars], axis=1)\n",
    "sales_rf_ft_oh.head()"
   ]
  },
  {
   "cell_type": "code",
   "execution_count": null,
   "metadata": {},
   "outputs": [],
   "source": [
    "# Save one-hot encoder\n",
    "dump(one_hot, '../models/one_hot_encoder.joblib') "
   ]
  },
  {
   "cell_type": "markdown",
   "metadata": {},
   "source": [
    "#### Cross-Validation"
   ]
  },
  {
   "cell_type": "code",
   "execution_count": 42,
   "metadata": {
    "scrolled": false
   },
   "outputs": [
    {
     "name": "stdout",
     "output_type": "stream",
     "text": [
      "--------------------\n",
      "Iteration 1\n",
      "Training set from day 1000 to 1884 with 1327500 observations.\n",
      "Validation set from day 1885 to 1913 with 43500 observations.\n",
      "Error: 1.71\n",
      "AxesSubplot(0.125,0.125;0.775x0.755)\n",
      "--------------------\n",
      "Iteration 31\n",
      "Training set from day 970 to 1854 with 1327500 observations.\n",
      "Validation set from day 1855 to 1883 with 43500 observations.\n",
      "Error: 1.46\n",
      "AxesSubplot(0.125,0.125;0.775x0.755)\n",
      "--------------------\n",
      "Iteration 61\n",
      "Training set from day 940 to 1824 with 1327500 observations.\n",
      "Validation set from day 1825 to 1853 with 43500 observations.\n",
      "Error: 1.44\n",
      "AxesSubplot(0.125,0.125;0.775x0.755)\n",
      "--------------------\n",
      "Iteration 91\n",
      "Training set from day 910 to 1794 with 1327500 observations.\n",
      "Validation set from day 1795 to 1823 with 43500 observations.\n",
      "Error: 1.40\n",
      "AxesSubplot(0.125,0.125;0.775x0.755)\n",
      "Mean MAE: 1.503\n"
     ]
    },
    {
     "data": {
      "image/png": "[encoded data removed]",
      "text/plain": [
       "<Figure size 432x288 with 1 Axes>"
      ]
     },
     "metadata": {
      "needs_background": "light"
     },
     "output_type": "display_data"
    },
    {
     "data": {
      "image/png": "[encoded data removed]",
      "text/plain": [
       "<Figure size 432x288 with 1 Axes>"
      ]
     },
     "metadata": {
      "needs_background": "light"
     },
     "output_type": "display_data"
    },
    {
     "data": {
      "image/png": "[encoded data removed]",
      "text/plain": [
       "<Figure size 432x288 with 1 Axes>"
      ]
     },
     "metadata": {
      "needs_background": "light"
     },
     "output_type": "display_data"
    },
    {
     "data": {
      "image/png": "[encoded data removed]",
      "text/plain": [
       "<Figure size 432x288 with 1 Axes>"
      ]
     },
     "metadata": {
      "needs_background": "light"
     },
     "output_type": "display_data"
    }
   ],
   "source": [
    "mae_list = []\n",
    "for n_iter in range(0, 91, 30):\n",
    "    print(20*'-')\n",
    "    print(f'Iteration {n_iter+1}')\n",
    "    # Create split\n",
    "    train_x, train_y, val_x, val_y = train_val_set(\n",
    "        sales_rf_ft_oh, 'day', 28, n_iter, 1000, 'sales')\n",
    "    # Train model\n",
    "    rf = RandomForestRegressor(\n",
    "        n_estimators=100, n_jobs=-1, random_state=42).fit(train_x, train_y)\n",
    "    # Predict\n",
    "    pred_y = rf.predict(val_x)\n",
    "    # Evaluate\n",
    "    mae = mean_absolute_error(val_y, pred_y)\n",
    "    print(f'Error: {mae:.2f}')\n",
    "    mae_list.append(mae)\n",
    "# Mean error\n",
    "mean_mae = np.mean(mae_list)\n",
    "print(f'Mean MAE: {mean_mae:.3f}')"
   ]
  },
  {
   "cell_type": "markdown",
   "metadata": {},
   "source": [
    "### Train Final Model"
   ]
  },
  {
   "cell_type": "code",
   "execution_count": 134,
   "metadata": {},
   "outputs": [
    {
     "name": "stdout",
     "output_type": "stream",
     "text": [
      "(2869500, 10) (2869500,)\n"
     ]
    }
   ],
   "source": [
    "train_x = sales_rf_ft_oh.drop('sales', axis=1)\n",
    "train_y = sales_rf_ft_oh['sales']\n",
    "print(train_x.shape, train_y.shape)"
   ]
  },
  {
   "cell_type": "code",
   "execution_count": 135,
   "metadata": {},
   "outputs": [],
   "source": [
    "rf = RandomForestRegressor(n_estimators=100, n_jobs=-1, random_state=42).fit(train_x, train_y)"
   ]
  },
  {
   "cell_type": "code",
   "execution_count": 136,
   "metadata": {},
   "outputs": [
    {
     "data": {
      "text/plain": [
       "['../models/rf_v_1_0.joblib']"
      ]
     },
     "execution_count": 136,
     "metadata": {},
     "output_type": "execute_result"
    }
   ],
   "source": [
    "# Save rf model\n",
    "dump(rf, '../models/rf_v_1_0.joblib') "
   ]
  }
 ],
 "metadata": {
  "kernelspec": {
   "display_name": "Python 3",
   "language": "python",
   "name": "python3"
  },
  "language_info": {
   "codemirror_mode": {
    "name": "ipython",
    "version": 3
   },
   "file_extension": ".py",
   "mimetype": "text/x-python",
   "name": "python",
   "nbconvert_exporter": "python",
   "pygments_lexer": "ipython3",
   "version": "3.8.1"
  }
 },
 "nbformat": 4,
 "nbformat_minor": 4
}
